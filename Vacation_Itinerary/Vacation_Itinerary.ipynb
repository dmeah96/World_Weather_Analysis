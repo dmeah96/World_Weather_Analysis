{
 "cells": [
  {
   "cell_type": "markdown",
   "metadata": {},
   "source": [
    "## Deliverable 3. Create a Travel Itinerary Map."
   ]
  },
  {
   "cell_type": "code",
   "execution_count": 2,
   "metadata": {},
   "outputs": [],
   "source": [
    "# Dependencies and Setup\n",
    "import pandas as pd\n",
    "import requests\n",
    "import gmaps\n",
    "import gmaps.datasets\n",
    "\n",
    "# Import API key\n",
    "from config import g_key\n",
    "\n",
    "# Configure gmaps\n",
    "gmaps.configure(api_key=g_key)"
   ]
  },
  {
   "cell_type": "code",
   "execution_count": 3,
   "metadata": {},
   "outputs": [
    {
     "data": {
      "text/html": [
       "<div>\n",
       "<style scoped>\n",
       "    .dataframe tbody tr th:only-of-type {\n",
       "        vertical-align: middle;\n",
       "    }\n",
       "\n",
       "    .dataframe tbody tr th {\n",
       "        vertical-align: top;\n",
       "    }\n",
       "\n",
       "    .dataframe thead th {\n",
       "        text-align: right;\n",
       "    }\n",
       "</style>\n",
       "<table border=\"1\" class=\"dataframe\">\n",
       "  <thead>\n",
       "    <tr style=\"text-align: right;\">\n",
       "      <th></th>\n",
       "      <th>City_ID</th>\n",
       "      <th>City</th>\n",
       "      <th>Lat</th>\n",
       "      <th>Lng</th>\n",
       "      <th>Max Temp</th>\n",
       "      <th>Humidity</th>\n",
       "      <th>Cloudiness</th>\n",
       "      <th>Wind Speed</th>\n",
       "      <th>Country</th>\n",
       "      <th>Date</th>\n",
       "      <th>Description</th>\n",
       "    </tr>\n",
       "  </thead>\n",
       "  <tbody>\n",
       "    <tr>\n",
       "      <th>0</th>\n",
       "      <td>0</td>\n",
       "      <td>Rikitea</td>\n",
       "      <td>-23.1203</td>\n",
       "      <td>-134.9692</td>\n",
       "      <td>296.64</td>\n",
       "      <td>71</td>\n",
       "      <td>52</td>\n",
       "      <td>6.39</td>\n",
       "      <td>PF</td>\n",
       "      <td>2021-09-16 23:43:02</td>\n",
       "      <td>light rain</td>\n",
       "    </tr>\n",
       "    <tr>\n",
       "      <th>1</th>\n",
       "      <td>1</td>\n",
       "      <td>Cape+Town</td>\n",
       "      <td>-33.9258</td>\n",
       "      <td>18.4232</td>\n",
       "      <td>286.42</td>\n",
       "      <td>71</td>\n",
       "      <td>0</td>\n",
       "      <td>1.79</td>\n",
       "      <td>ZA</td>\n",
       "      <td>2021-09-16 23:44:02</td>\n",
       "      <td>clear sky</td>\n",
       "    </tr>\n",
       "    <tr>\n",
       "      <th>2</th>\n",
       "      <td>2</td>\n",
       "      <td>Mataura</td>\n",
       "      <td>-46.1927</td>\n",
       "      <td>168.8643</td>\n",
       "      <td>280.64</td>\n",
       "      <td>51</td>\n",
       "      <td>32</td>\n",
       "      <td>2.74</td>\n",
       "      <td>NZ</td>\n",
       "      <td>2021-09-16 23:46:29</td>\n",
       "      <td>scattered clouds</td>\n",
       "    </tr>\n",
       "    <tr>\n",
       "      <th>3</th>\n",
       "      <td>3</td>\n",
       "      <td>Victoria</td>\n",
       "      <td>22.2855</td>\n",
       "      <td>114.1577</td>\n",
       "      <td>302.22</td>\n",
       "      <td>82</td>\n",
       "      <td>52</td>\n",
       "      <td>0.45</td>\n",
       "      <td>HK</td>\n",
       "      <td>2021-09-16 23:51:16</td>\n",
       "      <td>light rain</td>\n",
       "    </tr>\n",
       "    <tr>\n",
       "      <th>4</th>\n",
       "      <td>4</td>\n",
       "      <td>Mahebourg</td>\n",
       "      <td>-20.4081</td>\n",
       "      <td>57.7000</td>\n",
       "      <td>294.31</td>\n",
       "      <td>94</td>\n",
       "      <td>75</td>\n",
       "      <td>1.54</td>\n",
       "      <td>MU</td>\n",
       "      <td>2021-09-16 23:46:20</td>\n",
       "      <td>broken clouds</td>\n",
       "    </tr>\n",
       "    <tr>\n",
       "      <th>5</th>\n",
       "      <td>5</td>\n",
       "      <td>Khatanga</td>\n",
       "      <td>71.9667</td>\n",
       "      <td>102.5000</td>\n",
       "      <td>273.02</td>\n",
       "      <td>89</td>\n",
       "      <td>100</td>\n",
       "      <td>1.61</td>\n",
       "      <td>RU</td>\n",
       "      <td>2021-09-16 23:42:21</td>\n",
       "      <td>overcast clouds</td>\n",
       "    </tr>\n",
       "    <tr>\n",
       "      <th>6</th>\n",
       "      <td>6</td>\n",
       "      <td>Dikson</td>\n",
       "      <td>73.5069</td>\n",
       "      <td>80.5464</td>\n",
       "      <td>274.89</td>\n",
       "      <td>77</td>\n",
       "      <td>100</td>\n",
       "      <td>7.36</td>\n",
       "      <td>RU</td>\n",
       "      <td>2021-09-16 23:47:58</td>\n",
       "      <td>overcast clouds</td>\n",
       "    </tr>\n",
       "    <tr>\n",
       "      <th>7</th>\n",
       "      <td>7</td>\n",
       "      <td>Henties+Bay</td>\n",
       "      <td>-22.1160</td>\n",
       "      <td>14.2845</td>\n",
       "      <td>284.18</td>\n",
       "      <td>90</td>\n",
       "      <td>16</td>\n",
       "      <td>1.13</td>\n",
       "      <td>NaN</td>\n",
       "      <td>2021-09-16 23:46:24</td>\n",
       "      <td>few clouds</td>\n",
       "    </tr>\n",
       "    <tr>\n",
       "      <th>8</th>\n",
       "      <td>8</td>\n",
       "      <td>Pirgos</td>\n",
       "      <td>35.1167</td>\n",
       "      <td>25.7178</td>\n",
       "      <td>298.42</td>\n",
       "      <td>53</td>\n",
       "      <td>0</td>\n",
       "      <td>3.91</td>\n",
       "      <td>GR</td>\n",
       "      <td>2021-09-16 23:47:11</td>\n",
       "      <td>clear sky</td>\n",
       "    </tr>\n",
       "    <tr>\n",
       "      <th>9</th>\n",
       "      <td>9</td>\n",
       "      <td>Atuona</td>\n",
       "      <td>-9.8000</td>\n",
       "      <td>-139.0333</td>\n",
       "      <td>298.28</td>\n",
       "      <td>79</td>\n",
       "      <td>18</td>\n",
       "      <td>7.11</td>\n",
       "      <td>PF</td>\n",
       "      <td>2021-09-16 23:47:28</td>\n",
       "      <td>light rain</td>\n",
       "    </tr>\n",
       "  </tbody>\n",
       "</table>\n",
       "</div>"
      ],
      "text/plain": [
       "   City_ID         City      Lat       Lng  Max Temp  Humidity  Cloudiness  \\\n",
       "0        0      Rikitea -23.1203 -134.9692    296.64        71          52   \n",
       "1        1    Cape+Town -33.9258   18.4232    286.42        71           0   \n",
       "2        2      Mataura -46.1927  168.8643    280.64        51          32   \n",
       "3        3     Victoria  22.2855  114.1577    302.22        82          52   \n",
       "4        4    Mahebourg -20.4081   57.7000    294.31        94          75   \n",
       "5        5     Khatanga  71.9667  102.5000    273.02        89         100   \n",
       "6        6       Dikson  73.5069   80.5464    274.89        77         100   \n",
       "7        7  Henties+Bay -22.1160   14.2845    284.18        90          16   \n",
       "8        8       Pirgos  35.1167   25.7178    298.42        53           0   \n",
       "9        9       Atuona  -9.8000 -139.0333    298.28        79          18   \n",
       "\n",
       "   Wind Speed Country                 Date       Description  \n",
       "0        6.39      PF  2021-09-16 23:43:02        light rain  \n",
       "1        1.79      ZA  2021-09-16 23:44:02         clear sky  \n",
       "2        2.74      NZ  2021-09-16 23:46:29  scattered clouds  \n",
       "3        0.45      HK  2021-09-16 23:51:16        light rain  \n",
       "4        1.54      MU  2021-09-16 23:46:20     broken clouds  \n",
       "5        1.61      RU  2021-09-16 23:42:21   overcast clouds  \n",
       "6        7.36      RU  2021-09-16 23:47:58   overcast clouds  \n",
       "7        1.13     NaN  2021-09-16 23:46:24        few clouds  \n",
       "8        3.91      GR  2021-09-16 23:47:11         clear sky  \n",
       "9        7.11      PF  2021-09-16 23:47:28        light rain  "
      ]
     },
     "execution_count": 3,
     "metadata": {},
     "output_type": "execute_result"
    }
   ],
   "source": [
    "# 1. Read the WeatherPy_vacation.csv into a DataFrame.\n",
    "vacation_df = pd.read_csv(\"../weather_database/Weatherpy_database.csv\")\n",
    "vacation_df.head(10)"
   ]
  },
  {
   "cell_type": "code",
   "execution_count": 4,
   "metadata": {},
   "outputs": [],
   "source": [
    "# 2. Using the template add the city name, the country code, the weather description and maximum temperature for the city.\n",
    "info_box_template = \"\"\"\n",
    "<dl>\n",
    "<dt>City</dt><dd>{City}</dd>\n",
    "<dt>Country</dt><dd>{Country}</dd>\n",
    "<dt>Description</dt><dd>{Description}</dd>\n",
    "<dt>Max Temp</dt><dd>{Max Temp} °F</dd>\n",
    "</dl>\n",
    "\"\"\"\n",
    "\n",
    "# 3a. Get the data from each row and add it to the formatting template and store the data in a list.\n",
    "hotel_info = [info_box_template.format(**row) for index, row in vacation_df.iterrows()]\n",
    "\n",
    "# 3b. Get the latitude and longitude from each row and store in a new DataFrame.\n",
    "locations = vacation_df[[\"Lat\", \"Lng\"]]"
   ]
  },
  {
   "cell_type": "code",
   "execution_count": 5,
   "metadata": {},
   "outputs": [
    {
     "data": {
      "application/vnd.jupyter.widget-view+json": {
       "model_id": "6914149be9a646ca836157dbbea8a32a",
       "version_major": 2,
       "version_minor": 0
      },
      "text/plain": [
       "Figure(layout=FigureLayout(height='420px'))"
      ]
     },
     "metadata": {},
     "output_type": "display_data"
    }
   ],
   "source": [
    "locations = vacation_df[[\"Lat\", \"Lng\"]]\n",
    "max_temp = vacation_df[\"Max Temp\"]\n",
    "fig = gmaps.figure(center=(30.0, 31.0), zoom_level=1.5)\n",
    "heat_layer = gmaps.heatmap_layer(locations, weights=max_temp, dissipating=False,\n",
    "             max_intensity=300, point_radius=4)\n",
    "\n",
    "fig.add_layer(heat_layer)\n",
    "# Call the figure to plot the data.\n",
    "fig"
   ]
  },
  {
   "cell_type": "code",
   "execution_count": 6,
   "metadata": {
    "scrolled": true
   },
   "outputs": [
    {
     "data": {
      "application/vnd.jupyter.widget-view+json": {
       "model_id": "39595834a7974f8db965ccd31a6f5afe",
       "version_major": 2,
       "version_minor": 0
      },
      "text/plain": [
       "Figure(layout=FigureLayout(height='420px'))"
      ]
     },
     "metadata": {},
     "output_type": "display_data"
    }
   ],
   "source": [
    "# 4a. Add a marker layer for each city to the map.\n",
    "\n",
    "# 4b. Display the figure\n",
    "# 11a. Add a marker layer for each city to the map. \n",
    "\n",
    "\n",
    "\n",
    "# 11b. Display the figure\n",
    "# Add a heatmap of temperature for the vacation spots and marker for each city.\n",
    "locations = vacation_df[[\"Lat\", \"Lng\"]]\n",
    "max_temp = vacation_df[\"Max Temp\"]\n",
    "fig = gmaps.figure(center=(30.0, 31.0), zoom_level=1.5)\n",
    "heat_layer = gmaps.heatmap_layer(locations, weights=max_temp,\n",
    "             dissipating=False, max_intensity=300, point_radius=4)\n",
    "marker_layer = gmaps.marker_layer(locations)\n",
    "fig.add_layer(heat_layer)\n",
    "fig.add_layer(marker_layer)\n",
    "# Call the figure to plot the data.\n",
    "fig\n",
    "\n"
   ]
  },
  {
   "cell_type": "code",
   "execution_count": 13,
   "metadata": {},
   "outputs": [],
   "source": [
    "# From the map above pick 4 cities and create a vacation itinerary route to travel between the four cities. \n",
    "# 5. Create DataFrames for each city by filtering the 'vacation_df' using the loc method. \n",
    "# Hint: The starting and ending city should be the same city.\n",
    "\n",
    "Khatanga_start = vacation_df.loc[vacation_df[\"City\"]==\"Khatanga\"]\n",
    "Khatanga_end = vacation_df.loc[vacation_df[\"City\"]==\"Khatanga\"]\n",
    "Mataura = vacation_df.loc[vacation_df[\"City\"]==\"Mataura\"]\n",
    "Pirgos = vacation_df.loc[vacation_df[\"City\"]==\"Pirgos\"] \n",
    "Atuona = vacation_df.loc[vacation_df[\"City\"]==\"Atuona\"] "
   ]
  },
  {
   "cell_type": "code",
   "execution_count": 14,
   "metadata": {},
   "outputs": [
    {
     "name": "stdout",
     "output_type": "stream",
     "text": [
      "   City_ID      City      Lat    Lng  Max Temp  Humidity  Cloudiness  \\\n",
      "5        5  Khatanga  71.9667  102.5    273.02        89         100   \n",
      "\n",
      "   Wind Speed Country                 Date      Description  \n",
      "5        1.61      RU  2021-09-16 23:42:21  overcast clouds  \n"
     ]
    }
   ],
   "source": [
    "print(Khatanga_start)"
   ]
  },
  {
   "cell_type": "code",
   "execution_count": 15,
   "metadata": {},
   "outputs": [],
   "source": [
    "# 6. Get the latitude-longitude pairs as tuples from each city DataFrame using the to_numpy function and list indexing.\n",
    "start = Khatanga_start[\"Lat\"].to_numpy()[0], Khatanga_start[\"Lng\"].to_numpy()[0]\n",
    "end = Khatanga_end[\"Lat\"].to_numpy()[0], Khatanga_end[\"Lng\"].to_numpy()[0]\n",
    "stop1 = Mataura[\"Lat\"].to_numpy()[0], Mataura[\"Lng\"].to_numpy()[0]\n",
    "stop2 = Pirgos[\"Lat\"].to_numpy()[0], Pirgos[\"Lng\"].to_numpy()[0]\n",
    "stop3 = Atuona[\"Lat\"].to_numpy()[0], Atuona[\"Lng\"].to_numpy()[0]"
   ]
  },
  {
   "cell_type": "code",
   "execution_count": 17,
   "metadata": {},
   "outputs": [
    {
     "name": "stdout",
     "output_type": "stream",
     "text": [
      "(71.9667, 102.5)\n",
      "(-46.1927, 168.8643)\n",
      "(35.1167, 25.7178)\n",
      "(-9.8, -139.0333)\n"
     ]
    }
   ],
   "source": [
    "print(start)\n",
    "print(stop1)\n",
    "print(stop2)\n",
    "print(stop3)"
   ]
  },
  {
   "cell_type": "code",
   "execution_count": null,
   "metadata": {},
   "outputs": [],
   "source": []
  },
  {
   "cell_type": "code",
   "execution_count": null,
   "metadata": {},
   "outputs": [],
   "source": []
  },
  {
   "cell_type": "code",
   "execution_count": null,
   "metadata": {},
   "outputs": [],
   "source": []
  },
  {
   "cell_type": "code",
   "execution_count": 28,
   "metadata": {
    "scrolled": true
   },
   "outputs": [
    {
     "data": {
      "application/vnd.jupyter.widget-view+json": {
       "model_id": "f6208fcb87e7499ba2f988cbe4faaca9",
       "version_major": 2,
       "version_minor": 0
      },
      "text/plain": [
       "Figure(layout=FigureLayout(height='420px'))"
      ]
     },
     "metadata": {},
     "output_type": "display_data"
    }
   ],
   "source": [
    "# 7. Create a direction layer map using the start and end latitude-longitude pairs,\n",
    "# and stop1, stop2, and stop3 as the waypoints. The travel_mode should be \"DRIVING\", \"BICYCLING\", or \"WALKING\".\n",
    "\n",
    "\n",
    "fig = gmaps.figure(center=(30.0, 31.0), zoom_level=1.5)\n",
    "vacation_itinerary = gmaps.directions_layer(start, end, waypoints= [stop1, stop2, stop3], travel_mode='TRANSIT')\n",
    "\n",
    "# Call the figure to plot the data.\n",
    "fig.add_layer(vacation_itinerary)\n",
    "fig"
   ]
  },
  {
   "cell_type": "code",
   "execution_count": 29,
   "metadata": {},
   "outputs": [
    {
     "data": {
      "text/html": [
       "<div>\n",
       "<style scoped>\n",
       "    .dataframe tbody tr th:only-of-type {\n",
       "        vertical-align: middle;\n",
       "    }\n",
       "\n",
       "    .dataframe tbody tr th {\n",
       "        vertical-align: top;\n",
       "    }\n",
       "\n",
       "    .dataframe thead th {\n",
       "        text-align: right;\n",
       "    }\n",
       "</style>\n",
       "<table border=\"1\" class=\"dataframe\">\n",
       "  <thead>\n",
       "    <tr style=\"text-align: right;\">\n",
       "      <th></th>\n",
       "      <th>City_ID</th>\n",
       "      <th>City</th>\n",
       "      <th>Lat</th>\n",
       "      <th>Lng</th>\n",
       "      <th>Max Temp</th>\n",
       "      <th>Humidity</th>\n",
       "      <th>Cloudiness</th>\n",
       "      <th>Wind Speed</th>\n",
       "      <th>Country</th>\n",
       "      <th>Date</th>\n",
       "      <th>Description</th>\n",
       "    </tr>\n",
       "  </thead>\n",
       "  <tbody>\n",
       "    <tr>\n",
       "      <th>0</th>\n",
       "      <td>5</td>\n",
       "      <td>Khatanga</td>\n",
       "      <td>71.9667</td>\n",
       "      <td>102.5000</td>\n",
       "      <td>273.02</td>\n",
       "      <td>89</td>\n",
       "      <td>100</td>\n",
       "      <td>1.61</td>\n",
       "      <td>RU</td>\n",
       "      <td>2021-09-16 23:42:21</td>\n",
       "      <td>overcast clouds</td>\n",
       "    </tr>\n",
       "    <tr>\n",
       "      <th>1</th>\n",
       "      <td>5</td>\n",
       "      <td>Khatanga</td>\n",
       "      <td>71.9667</td>\n",
       "      <td>102.5000</td>\n",
       "      <td>273.02</td>\n",
       "      <td>89</td>\n",
       "      <td>100</td>\n",
       "      <td>1.61</td>\n",
       "      <td>RU</td>\n",
       "      <td>2021-09-16 23:42:21</td>\n",
       "      <td>overcast clouds</td>\n",
       "    </tr>\n",
       "    <tr>\n",
       "      <th>2</th>\n",
       "      <td>2</td>\n",
       "      <td>Mataura</td>\n",
       "      <td>-46.1927</td>\n",
       "      <td>168.8643</td>\n",
       "      <td>280.64</td>\n",
       "      <td>51</td>\n",
       "      <td>32</td>\n",
       "      <td>2.74</td>\n",
       "      <td>NZ</td>\n",
       "      <td>2021-09-16 23:46:29</td>\n",
       "      <td>scattered clouds</td>\n",
       "    </tr>\n",
       "    <tr>\n",
       "      <th>3</th>\n",
       "      <td>8</td>\n",
       "      <td>Pirgos</td>\n",
       "      <td>35.1167</td>\n",
       "      <td>25.7178</td>\n",
       "      <td>298.42</td>\n",
       "      <td>53</td>\n",
       "      <td>0</td>\n",
       "      <td>3.91</td>\n",
       "      <td>GR</td>\n",
       "      <td>2021-09-16 23:47:11</td>\n",
       "      <td>clear sky</td>\n",
       "    </tr>\n",
       "    <tr>\n",
       "      <th>4</th>\n",
       "      <td>9</td>\n",
       "      <td>Atuona</td>\n",
       "      <td>-9.8000</td>\n",
       "      <td>-139.0333</td>\n",
       "      <td>298.28</td>\n",
       "      <td>79</td>\n",
       "      <td>18</td>\n",
       "      <td>7.11</td>\n",
       "      <td>PF</td>\n",
       "      <td>2021-09-16 23:47:28</td>\n",
       "      <td>light rain</td>\n",
       "    </tr>\n",
       "  </tbody>\n",
       "</table>\n",
       "</div>"
      ],
      "text/plain": [
       "   City_ID      City      Lat       Lng  Max Temp  Humidity  Cloudiness  \\\n",
       "0        5  Khatanga  71.9667  102.5000    273.02        89         100   \n",
       "1        5  Khatanga  71.9667  102.5000    273.02        89         100   \n",
       "2        2   Mataura -46.1927  168.8643    280.64        51          32   \n",
       "3        8    Pirgos  35.1167   25.7178    298.42        53           0   \n",
       "4        9    Atuona  -9.8000 -139.0333    298.28        79          18   \n",
       "\n",
       "   Wind Speed Country                 Date       Description  \n",
       "0        1.61      RU  2021-09-16 23:42:21   overcast clouds  \n",
       "1        1.61      RU  2021-09-16 23:42:21   overcast clouds  \n",
       "2        2.74      NZ  2021-09-16 23:46:29  scattered clouds  \n",
       "3        3.91      GR  2021-09-16 23:47:11         clear sky  \n",
       "4        7.11      PF  2021-09-16 23:47:28        light rain  "
      ]
     },
     "execution_count": 29,
     "metadata": {},
     "output_type": "execute_result"
    }
   ],
   "source": [
    "# 8. To create a marker layer map between the four cities.\n",
    "#  Combine the four city DataFrames into one DataFrame using the concat() function.\n",
    "itinerary_df = pd.concat([Khatanga_start, Khatanga_end, Mataura, Pirgos, Atuona],ignore_index=True)\n",
    "itinerary_df"
   ]
  },
  {
   "cell_type": "code",
   "execution_count": 30,
   "metadata": {},
   "outputs": [],
   "source": [
    "# 9 Using the template add city name, the country code, the weather description and maximum temperature for the city. \n",
    "info_box_template = \"\"\"\n",
    "<dl>\n",
    "<dt>City</dt><dd>{City}</dd>\n",
    "<dt>Country</dt><dd>{Country}</dd>\n",
    "<dt>Description</dt><dd>{Description}</dd>\n",
    "<dt>Max Temp</dt><dd>{Max Temp} °F</dd>\n",
    "</dl>\n",
    "\"\"\"\n",
    "\n",
    "# 10a Get the data from each row and add it to the formatting template and store the data in a list.\n",
    "hotel_info = [info_box_template.format(**row) for index, row in itinerary_df.iterrows()]\n",
    "\n",
    "# 10b. Get the latitude and longitude from each row and store in a new DataFrame.\n",
    "locations = itinerary_df[[\"Lat\", \"Lng\"]]"
   ]
  },
  {
   "cell_type": "code",
   "execution_count": 31,
   "metadata": {},
   "outputs": [],
   "source": [
    "# 11a. Add a marker layer for each city to the map.\n",
    "\n",
    "# 11b. Display the figure\n",
    "locations = vacation_df[[\"Lat\", \"Lng\"]]\n",
    "max_temp = vacation_df[\"Max Temp\"]\n",
    "fig = gmaps.figure(center=(30.0, 31.0), zoom_level=1.5)\n",
    "heat_layer = gmaps.heatmap_layer(locations, weights=max_temp,\n",
    "             dissipating=False, max_intensity=300, point_radius=4)\n",
    "marker_layer = gmaps.marker_layer(locations)\n",
    "fig.add_layer(heat_layer)\n",
    "fig.add_layer(marker_layer)"
   ]
  },
  {
   "cell_type": "code",
   "execution_count": null,
   "metadata": {},
   "outputs": [],
   "source": []
  }
 ],
 "metadata": {
  "kernelspec": {
   "display_name": "Python 3 (ipykernel)",
   "language": "python",
   "name": "python3"
  },
  "language_info": {
   "codemirror_mode": {
    "name": "ipython",
    "version": 3
   },
   "file_extension": ".py",
   "mimetype": "text/x-python",
   "name": "python",
   "nbconvert_exporter": "python",
   "pygments_lexer": "ipython3",
   "version": "3.7.6"
  },
  "latex_envs": {
   "LaTeX_envs_menu_present": true,
   "autoclose": false,
   "autocomplete": true,
   "bibliofile": "biblio.bib",
   "cite_by": "apalike",
   "current_citInitial": 1,
   "eqLabelWithNumbers": true,
   "eqNumInitial": 1,
   "hotkeys": {
    "equation": "Ctrl-E",
    "itemize": "Ctrl-I"
   },
   "labels_anchors": false,
   "latex_user_defs": false,
   "report_style_numbering": false,
   "user_envs_cfg": false
  }
 },
 "nbformat": 4,
 "nbformat_minor": 2
}
